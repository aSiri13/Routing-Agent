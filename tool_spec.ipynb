{
 "cells": [
  {
   "cell_type": "code",
   "execution_count": 1,
   "metadata": {},
   "outputs": [
    {
     "name": "stdout",
     "output_type": "stream",
     "text": [
      "Requirement already satisfied: pydantic in c:\\users\\arnav\\anaconda3\\lib\\site-packages (1.10.8)\n",
      "Requirement already satisfied: typing-extensions>=4.2.0 in c:\\users\\arnav\\anaconda3\\lib\\site-packages (from pydantic) (4.9.0)\n",
      "Note: you may need to restart the kernel to use updated packages.\n",
      "Requirement already satisfied: googlemaps in c:\\users\\arnav\\anaconda3\\lib\\site-packages (4.10.0)Note: you may need to restart the kernel to use updated packages.\n",
      "\n",
      "Requirement already satisfied: requests<3.0,>=2.20.0 in c:\\users\\arnav\\anaconda3\\lib\\site-packages (from googlemaps) (2.31.0)\n",
      "Requirement already satisfied: charset-normalizer<4,>=2 in c:\\users\\arnav\\anaconda3\\lib\\site-packages (from requests<3.0,>=2.20.0->googlemaps) (2.0.4)\n",
      "Requirement already satisfied: idna<4,>=2.5 in c:\\users\\arnav\\anaconda3\\lib\\site-packages (from requests<3.0,>=2.20.0->googlemaps) (3.4)\n",
      "Requirement already satisfied: urllib3<3,>=1.21.1 in c:\\users\\arnav\\anaconda3\\lib\\site-packages (from requests<3.0,>=2.20.0->googlemaps) (2.2.1)\n",
      "Requirement already satisfied: certifi>=2017.4.17 in c:\\users\\arnav\\anaconda3\\lib\\site-packages (from requests<3.0,>=2.20.0->googlemaps) (2024.2.2)\n"
     ]
    }
   ],
   "source": [
    "%pip install pydantic\n",
    "%pip install googlemaps"
   ]
  },
  {
   "cell_type": "code",
   "execution_count": 1,
   "metadata": {},
   "outputs": [],
   "source": [
    "from main import handle_location_question, handle_vision_question, app"
   ]
  },
  {
   "cell_type": "code",
   "execution_count": 2,
   "metadata": {},
   "outputs": [],
   "source": [
    "# %pip install llama_index"
   ]
  },
  {
   "cell_type": "code",
   "execution_count": 3,
   "metadata": {},
   "outputs": [],
   "source": [
    "# from llama_index.agent.openai import OpenAIAgent\n",
    "from llama_index.core.tools.tool_spec.base import BaseToolSpec"
   ]
  },
  {
   "cell_type": "code",
   "execution_count": 4,
   "metadata": {},
   "outputs": [],
   "source": [
    "class CVToolSpec(BaseToolSpec):\n",
    "    spec_functions = ['handle_vision_question']\n",
    "\n",
    "    def __init__(self): #, form):\n",
    "        # self.form = form\n",
    "        ''''''\n",
    "\n",
    "    def handle_vision_question(request):\n",
    "        return handle_vision_question(request)"
   ]
  },
  {
   "cell_type": "code",
   "execution_count": 5,
   "metadata": {},
   "outputs": [],
   "source": [
    "cv_tool = CVToolSpec()\n",
    "cv_tool_list = cv_tool.to_tool_list()"
   ]
  },
  {
   "cell_type": "code",
   "execution_count": 10,
   "metadata": {},
   "outputs": [],
   "source": [
    "class LocationToolSpec(BaseToolSpec):\n",
    "    spec_functions = ['handle_location_question']\n",
    "\n",
    "    def __init__(self): #, form):\n",
    "        # self.form = form\n",
    "        ''''''\n",
    "\n",
    "    def handle_location_question(request): \n",
    "        return handle_location_question(request)\n",
    "        "
   ]
  },
  {
   "cell_type": "code",
   "execution_count": 12,
   "metadata": {},
   "outputs": [],
   "source": [
    "from flask import request \n",
    "\n",
    "# form_data = request.form\n",
    "\n",
    "loc_tool = LocationToolSpec()\n",
    "loc_tool_list = loc_tool.to_tool_list(['handle_location_question'])"
   ]
  },
  {
   "cell_type": "code",
   "execution_count": 13,
   "metadata": {},
   "outputs": [
    {
     "name": "stdout",
     "output_type": "stream",
     "text": [
      "Handling location request ...\n",
      "Caught exception in handle_location_question: 'LocationToolSpec' object has no attribute 'form'\n",
      "(<Response 62 bytes [200 OK]>, 500)\n"
     ]
    }
   ],
   "source": [
    "with app.app_context():\n",
    "    print(loc_tool.handle_location_question())"
   ]
  },
  {
   "cell_type": "markdown",
   "metadata": {},
   "source": [
    "### Experiment with making Agents from Tools"
   ]
  },
  {
   "cell_type": "code",
   "execution_count": 14,
   "metadata": {},
   "outputs": [],
   "source": [
    "from llama_index.agent.openai import OpenAIAgent\n",
    "from llama_index.llms.openai import OpenAI\n",
    "\n",
    "full_tool_list = cv_tool.to_tool_list() + loc_tool.to_tool_list()\n",
    "llm = OpenAI(model=\"gpt-3.5-turbo\")\n",
    "agent = OpenAIAgent.from_tools(full_tool_list, verbose=True)"
   ]
  },
  {
   "cell_type": "code",
   "execution_count": 16,
   "metadata": {},
   "outputs": [
    {
     "name": "stdout",
     "output_type": "stream",
     "text": [
      "Added user message to memory: Where am I?\n",
      "=== Calling Function ===\n",
      "Calling function: handle_location_question with args: {}\n",
      "Handling location request ...\n",
      "Caught exception in handle_location_question: 'LocationToolSpec' object has no attribute 'form'\n",
      "Got output: Error: Working outside of application context.\n",
      "\n",
      "This typically means that you attempted to use functionality that needed\n",
      "the current application. To solve this, set up an application context\n",
      "with app.app_context(). See the documentation for more information.\n",
      "========================\n",
      "\n"
     ]
    },
    {
     "data": {
      "text/plain": [
       "Response(response='I encountered an error while trying to determine your location. Let me try a different approach.', source_nodes=[], metadata=None)"
      ]
     },
     "execution_count": 16,
     "metadata": {},
     "output_type": "execute_result"
    }
   ],
   "source": [
    "agent.query(\"Where am I?\")"
   ]
  },
  {
   "cell_type": "code",
   "execution_count": null,
   "metadata": {},
   "outputs": [],
   "source": []
  }
 ],
 "metadata": {
  "kernelspec": {
   "display_name": "base",
   "language": "python",
   "name": "python3"
  },
  "language_info": {
   "codemirror_mode": {
    "name": "ipython",
    "version": 3
   },
   "file_extension": ".py",
   "mimetype": "text/x-python",
   "name": "python",
   "nbconvert_exporter": "python",
   "pygments_lexer": "ipython3",
   "version": "3.11.5"
  }
 },
 "nbformat": 4,
 "nbformat_minor": 2
}
