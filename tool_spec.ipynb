{
 "cells": [
  {
   "cell_type": "code",
   "execution_count": 1,
   "metadata": {},
   "outputs": [
   ],
   "source": [
    "%pip install pydantic\n",
    "%pip install googlemaps"
   ]
  },
  {
   "cell_type": "code",
   "execution_count": 3,
   "metadata": {},
   "outputs": [
    {
     "ename": "ImportError",
     "evalue": "cannot import name 'OpenAI' from 'openai' (C:\\Users\\Anshu\\AppData\\Local\\Packages\\PythonSoftwareFoundation.Python.3.11_qbz5n2kfra8p0\\LocalCache\\local-packages\\Python311\\site-packages\\openai\\__init__.py)",
     "output_type": "error",
     "traceback": [
      "\u001b[1;31m---------------------------------------------------------------------------\u001b[0m",
      "\u001b[1;31mImportError\u001b[0m                               Traceback (most recent call last)",
      "Cell \u001b[1;32mIn[3], line 1\u001b[0m\n\u001b[1;32m----> 1\u001b[0m \u001b[38;5;28;01mfrom\u001b[39;00m \u001b[38;5;21;01mmain\u001b[39;00m \u001b[38;5;28;01mimport\u001b[39;00m handle_location_question, handle_vision_question\n",
     ]
    }
   ],
   "source": [
    "from main import handle_location_question, handle_vision_question"
   ]
  },
  {
   "cell_type": "code",
   "execution_count": 2,
   "metadata": {},
   "outputs": [],
   "source": [
    "# %pip install llama_index"
   ]
  },
  {
   "cell_type": "code",
   "execution_count": 3,
   "metadata": {},
   "outputs": [],
   "source": [
    "# from llama_index.agent.openai import OpenAIAgent\n",
    "from llama_index.core.tools.tool_spec.base import BaseToolSpec"
   ]
  },
  {
   "cell_type": "code",
   "execution_count": 4,
   "metadata": {},
   "outputs": [],
   "source": [
    "class CVToolSpec(BaseToolSpec):\n",
    "    spec_functions = ['handle_vision_question']\n",
    "\n",
    "    def __init__(self): #, form):\n",
    "        # self.form = form\n",
    "        ''''''\n",
    "\n",
    "    def handle_vision_question(request):\n",
    "        return handle_vision_question(request)"
   ]
  },
  {
   "cell_type": "code",
   "execution_count": 5,
   "metadata": {},
   "outputs": [],
   "source": [
    "cv_tool = CVToolSpec()\n",
    "cv_tool_list = cv_tool.to_tool_list()"
   ]
  },
  {
   "cell_type": "code",
   "execution_count": 10,
   "metadata": {},
   "outputs": [],
   "source": [
    "class LocationToolSpec(BaseToolSpec):\n",
    "    spec_functions = ['handle_location_question']\n",
    "\n",
    "    def __init__(self): #, form):\n",
    "        # self.form = form\n",
    "        ''''''\n",
    "\n",
    "    def handle_location_question(request): \n",
    "        return handle_location_question(request)\n",
    "        "
   ]
  },
  {
   "cell_type": "code",
   "execution_count": 4,
   "metadata": {},
   "outputs": [
    {
     "ename": "NameError",
     "evalue": "name 'LocationToolSpec' is not defined",
     "output_type": "error",
     "traceback": [
      "\u001b[1;31m---------------------------------------------------------------------------\u001b[0m",
      "\u001b[1;31mNameError\u001b[0m                                 Traceback (most recent call last)",
      "Cell \u001b[1;32mIn[4], line 3\u001b[0m\n\u001b[0;32m      1\u001b[0m \u001b[38;5;66;03m# form_data = request.form\u001b[39;00m\n\u001b[1;32m----> 3\u001b[0m loc_tool \u001b[38;5;241m=\u001b[39m \u001b[43mLocationToolSpec\u001b[49m()\n\u001b[0;32m      4\u001b[0m loc_tool_list \u001b[38;5;241m=\u001b[39m loc_tool\u001b[38;5;241m.\u001b[39mto_tool_list([\u001b[38;5;124m'\u001b[39m\u001b[38;5;124mhandle_location_question\u001b[39m\u001b[38;5;124m'\u001b[39m])\n",
      "\u001b[1;31mNameError\u001b[0m: name 'LocationToolSpec' is not defined"
     ]
    }
   ],
   "source": [
    "# form_data = request.form\n",
    "\n",
    "loc_tool = LocationToolSpec()\n",
    "loc_tool_list = loc_tool.to_tool_list(['handle_location_question'])"
   ]
  },
  {
   "cell_type": "code",
   "execution_count": 5,
   "metadata": {},
   "outputs": [
    {
     "ename": "NameError",
     "evalue": "name 'loc_tool' is not defined",
     "output_type": "error",
     "traceback": [
      "\u001b[1;31m---------------------------------------------------------------------------\u001b[0m",
      "\u001b[1;31mNameError\u001b[0m                                 Traceback (most recent call last)",
      "Cell \u001b[1;32mIn[5], line 1\u001b[0m\n\u001b[1;32m----> 1\u001b[0m \u001b[38;5;28mprint\u001b[39m(\u001b[43mloc_tool\u001b[49m\u001b[38;5;241m.\u001b[39mhandle_location_question())\n",
      "\u001b[1;31mNameError\u001b[0m: name 'loc_tool' is not defined"
     ]
    }
   ],
   "source": [
    "print(loc_tool.handle_location_question())"
   ]
  },
  {
   "cell_type": "markdown",
   "metadata": {},
   "source": [
    "### Experiment with making Agents from Tools"
   ]
  },
  {
   "cell_type": "code",
   "execution_count": 14,
   "metadata": {},
   "outputs": [],
   "source": [
    "from llama_index.agent.openai import OpenAIAgent\n",
    "from llama_index.llms.openai import OpenAI\n",
    "\n",
    "full_tool_list = cv_tool.to_tool_list() + loc_tool.to_tool_list()\n",
    "llm = OpenAI(model=\"gpt-3.5-turbo\")\n",
    "agent = OpenAIAgent.from_tools(full_tool_list, verbose=True)"
   ]
  },
  {
   "cell_type": "code",
   "execution_count": 16,
   "metadata": {},
   "outputs": [
    {
     "name": "stdout",
     "output_type": "stream",
     "text": [
      "Added user message to memory: Where am I?\n",
      "=== Calling Function ===\n",
      "Calling function: handle_location_question with args: {}\n",
      "Handling location request ...\n",
      "Caught exception in handle_location_question: 'LocationToolSpec' object has no attribute 'form'\n",
      "Got output: Error: Working outside of application context.\n",
      "\n",
      "This typically means that you attempted to use functionality that needed\n",
      "the current application. To solve this, set up an application context\n",
      "with app.app_context(). See the documentation for more information.\n",
      "========================\n",
      "\n"
     ]
    },
    {
     "data": {
      "text/plain": [
       "Response(response='I encountered an error while trying to determine your location. Let me try a different approach.', source_nodes=[], metadata=None)"
      ]
     },
     "execution_count": 16,
     "metadata": {},
     "output_type": "execute_result"
    }
   ],
   "source": [
    "agent.query(\"Where am I?\")"
   ]
  },
  {
   "cell_type": "code",
   "execution_count": null,
   "metadata": {},
   "outputs": [],
   "source": []
  }
 ],
 "metadata": {
  "kernelspec": {
   "display_name": "base",
   "language": "python",
   "name": "python3"
  },
  "language_info": {
   "codemirror_mode": {
    "name": "ipython",
    "version": 3
   },
   "file_extension": ".py",
   "mimetype": "text/x-python",
   "name": "python",
   "nbconvert_exporter": "python",
   "pygments_lexer": "ipython3",
   "version": "3.11.9"
  }
 },
 "nbformat": 4,
 "nbformat_minor": 2
}
