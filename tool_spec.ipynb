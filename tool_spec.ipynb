{
 "cells": [
  {
   "cell_type": "code",
   "execution_count": 1,
   "metadata": {},
   "outputs": [
    {
     "name": "stdout",
     "output_type": "stream",
     "text": [
      "Requirement already satisfied: pydantic in c:\\users\\arnav\\anaconda3\\lib\\site-packages (1.10.8)\n",
      "Requirement already satisfied: typing-extensions>=4.2.0 in c:\\users\\arnav\\anaconda3\\lib\\site-packages (from pydantic) (4.9.0)\n",
      "Note: you may need to restart the kernel to use updated packages.\n",
      "Requirement already satisfied: googlemaps in c:\\users\\arnav\\anaconda3\\lib\\site-packages (4.10.0)\n",
      "Requirement already satisfied: requests<3.0,>=2.20.0 in c:\\users\\arnav\\anaconda3\\lib\\site-packages (from googlemaps) (2.31.0)\n",
      "Requirement already satisfied: charset-normalizer<4,>=2 in c:\\users\\arnav\\anaconda3\\lib\\site-packages (from requests<3.0,>=2.20.0->googlemaps) (2.0.4)\n",
      "Requirement already satisfied: idna<4,>=2.5 in c:\\users\\arnav\\anaconda3\\lib\\site-packages (from requests<3.0,>=2.20.0->googlemaps) (3.4)\n",
      "Requirement already satisfied: urllib3<3,>=1.21.1 in c:\\users\\arnav\\anaconda3\\lib\\site-packages (from requests<3.0,>=2.20.0->googlemaps) (2.2.1)\n",
      "Requirement already satisfied: certifi>=2017.4.17 in c:\\users\\arnav\\anaconda3\\lib\\site-packages (from requests<3.0,>=2.20.0->googlemaps) (2024.2.2)\n",
      "Note: you may need to restart the kernel to use updated packages.\n"
     ]
    }
   ],
   "source": [
    "%pip install pydantic\n",
    "%pip install googlemaps"
   ]
  },
  {
   "cell_type": "code",
   "execution_count": 3,
   "metadata": {},
   "outputs": [
    {
     "ename": "ValueError",
     "evalue": "Must provide API key or enterprise credentials when creating client.",
     "output_type": "error",
     "traceback": [
      "\u001b[1;31m---------------------------------------------------------------------------\u001b[0m",
      "\u001b[1;31mValueError\u001b[0m                                Traceback (most recent call last)",
      "Cell \u001b[1;32mIn[3], line 1\u001b[0m\n\u001b[1;32m----> 1\u001b[0m \u001b[38;5;28;01mfrom\u001b[39;00m \u001b[38;5;21;01mmain\u001b[39;00m \u001b[38;5;28;01mimport\u001b[39;00m handle_location_request\n",
      "File \u001b[1;32mc:\\Users\\arnav\\clubs\\Momentum\\routing agent\\memARy_tools\\main.py:1\u001b[0m\n\u001b[1;32m----> 1\u001b[0m \u001b[38;5;28;01mimport\u001b[39;00m \u001b[38;5;21;01mml\u001b[39;00m\u001b[38;5;241m,\u001b[39m \u001b[38;5;21;01mutils\u001b[39;00m \n\u001b[0;32m      2\u001b[0m \u001b[38;5;28;01mfrom\u001b[39;00m \u001b[38;5;21;01mflask\u001b[39;00m \u001b[38;5;28;01mimport\u001b[39;00m Flask, request, jsonify, send_file, render_template, make_response\n\u001b[0;32m      3\u001b[0m \u001b[38;5;28;01mfrom\u001b[39;00m \u001b[38;5;21;01mflask\u001b[39;00m\u001b[38;5;21;01m.\u001b[39;00m\u001b[38;5;21;01mhelpers\u001b[39;00m \u001b[38;5;28;01mimport\u001b[39;00m send_from_directory\n",
      "File \u001b[1;32mc:\\Users\\arnav\\clubs\\Momentum\\routing agent\\memARy_tools\\utils.py:15\u001b[0m\n\u001b[0;32m     12\u001b[0m load_dotenv()\n\u001b[0;32m     14\u001b[0m google_maps_key \u001b[38;5;241m=\u001b[39m os\u001b[38;5;241m.\u001b[39mgetenv(\u001b[38;5;124m\"\u001b[39m\u001b[38;5;124mgoogle_maps_key\u001b[39m\u001b[38;5;124m\"\u001b[39m)\n\u001b[1;32m---> 15\u001b[0m gmaps \u001b[38;5;241m=\u001b[39m googlemaps\u001b[38;5;241m.\u001b[39mClient(key\u001b[38;5;241m=\u001b[39mgoogle_maps_key)\n\u001b[0;32m     17\u001b[0m \u001b[38;5;28;01mdef\u001b[39;00m \u001b[38;5;21mretrieve_location\u001b[39m(): \n\u001b[0;32m     18\u001b[0m   \u001b[38;5;124m\"\u001b[39m\u001b[38;5;124mReturns latitude and longitude of current location\u001b[39m\u001b[38;5;124m\"\u001b[39m\n",
      "File \u001b[1;32mc:\\Users\\arnav\\anaconda3\\Lib\\site-packages\\googlemaps\\client.py:140\u001b[0m, in \u001b[0;36mClient.__init__\u001b[1;34m(self, key, client_id, client_secret, timeout, connect_timeout, read_timeout, retry_timeout, requests_kwargs, queries_per_second, queries_per_minute, channel, retry_over_query_limit, experience_id, requests_session, base_url)\u001b[0m\n\u001b[0;32m     64\u001b[0m \u001b[38;5;250m\u001b[39m\u001b[38;5;124;03m\"\"\"\u001b[39;00m\n\u001b[0;32m     65\u001b[0m \u001b[38;5;124;03m:param key: Maps API key. Required, unless \"client_id\" and\u001b[39;00m\n\u001b[0;32m     66\u001b[0m \u001b[38;5;124;03m    \"client_secret\" are set. Most users should use an API key.\u001b[39;00m\n\u001b[1;32m   (...)\u001b[0m\n\u001b[0;32m    137\u001b[0m \n\u001b[0;32m    138\u001b[0m \u001b[38;5;124;03m\"\"\"\u001b[39;00m\n\u001b[0;32m    139\u001b[0m \u001b[38;5;28;01mif\u001b[39;00m \u001b[38;5;129;01mnot\u001b[39;00m key \u001b[38;5;129;01mand\u001b[39;00m \u001b[38;5;129;01mnot\u001b[39;00m (client_secret \u001b[38;5;129;01mand\u001b[39;00m client_id):\n\u001b[1;32m--> 140\u001b[0m     \u001b[38;5;28;01mraise\u001b[39;00m \u001b[38;5;167;01mValueError\u001b[39;00m(\u001b[38;5;124m\"\u001b[39m\u001b[38;5;124mMust provide API key or enterprise credentials \u001b[39m\u001b[38;5;124m\"\u001b[39m\n\u001b[0;32m    141\u001b[0m                      \u001b[38;5;124m\"\u001b[39m\u001b[38;5;124mwhen creating client.\u001b[39m\u001b[38;5;124m\"\u001b[39m)\n\u001b[0;32m    143\u001b[0m \u001b[38;5;28;01mif\u001b[39;00m key \u001b[38;5;129;01mand\u001b[39;00m \u001b[38;5;129;01mnot\u001b[39;00m key\u001b[38;5;241m.\u001b[39mstartswith(\u001b[38;5;124m\"\u001b[39m\u001b[38;5;124mAIza\u001b[39m\u001b[38;5;124m\"\u001b[39m):\n\u001b[0;32m    144\u001b[0m     \u001b[38;5;28;01mraise\u001b[39;00m \u001b[38;5;167;01mValueError\u001b[39;00m(\u001b[38;5;124m\"\u001b[39m\u001b[38;5;124mInvalid API key provided.\u001b[39m\u001b[38;5;124m\"\u001b[39m)\n",
      "\u001b[1;31mValueError\u001b[0m: Must provide API key or enterprise credentials when creating client."
     ]
    }
   ],
   "source": [
    "from main import handle_location_request"
   ]
  },
  {
   "cell_type": "code",
   "execution_count": 1,
   "metadata": {},
   "outputs": [
    {
     "name": "stdout",
     "output_type": "stream",
     "text": [
      "Requirement already satisfied: llama_index in c:\\users\\arnav\\anaconda3\\lib\\site-packages (0.10.12)\n",
      "Requirement already satisfied: llama-index-agent-openai<0.2.0,>=0.1.4 in c:\\users\\arnav\\anaconda3\\lib\\site-packages (from llama_index) (0.1.5)\n",
      "Requirement already satisfied: llama-index-cli<0.2.0,>=0.1.2 in c:\\users\\arnav\\anaconda3\\lib\\site-packages (from llama_index) (0.1.5)\n",
      "Requirement already satisfied: llama-index-core<0.11.0,>=0.10.12 in c:\\users\\arnav\\anaconda3\\lib\\site-packages (from llama_index) (0.10.12)\n",
      "Requirement already satisfied: llama-index-embeddings-openai<0.2.0,>=0.1.5 in c:\\users\\arnav\\anaconda3\\lib\\site-packages (from llama_index) (0.1.6)\n",
      "Requirement already satisfied: llama-index-indices-managed-llama-cloud<0.2.0,>=0.1.2 in c:\\users\\arnav\\anaconda3\\lib\\site-packages (from llama_index) (0.1.3)\n",
      "Requirement already satisfied: llama-index-legacy<0.10.0,>=0.9.48 in c:\\users\\arnav\\anaconda3\\lib\\site-packages (from llama_index) (0.9.48)\n",
      "Requirement already satisfied: llama-index-llms-openai<0.2.0,>=0.1.5 in c:\\users\\arnav\\anaconda3\\lib\\site-packages (from llama_index) (0.1.6)\n",
      "Requirement already satisfied: llama-index-multi-modal-llms-openai<0.2.0,>=0.1.3 in c:\\users\\arnav\\anaconda3\\lib\\site-packages (from llama_index) (0.1.4)\n",
      "Requirement already satisfied: llama-index-program-openai<0.2.0,>=0.1.3 in c:\\users\\arnav\\anaconda3\\lib\\site-packages (from llama_index) (0.1.4)\n",
      "Requirement already satisfied: llama-index-question-gen-openai<0.2.0,>=0.1.2 in c:\\users\\arnav\\anaconda3\\lib\\site-packages (from llama_index) (0.1.3)\n",
      "Requirement already satisfied: llama-index-readers-file<0.2.0,>=0.1.4 in c:\\users\\arnav\\anaconda3\\lib\\site-packages (from llama_index) (0.1.5)\n",
      "Requirement already satisfied: llama-index-readers-llama-parse<0.2.0,>=0.1.2 in c:\\users\\arnav\\anaconda3\\lib\\site-packages (from llama_index) (0.1.3)\n",
      "Requirement already satisfied: llama-index-vector-stores-chroma<0.2.0,>=0.1.1 in c:\\users\\arnav\\anaconda3\\lib\\site-packages (from llama-index-cli<0.2.0,>=0.1.2->llama_index) (0.1.4)\n",
      "Requirement already satisfied: PyYAML>=6.0.1 in c:\\users\\arnav\\anaconda3\\lib\\site-packages (from llama-index-core<0.11.0,>=0.10.12->llama_index) (6.0.1)\n",
      "Requirement already satisfied: SQLAlchemy[asyncio]>=1.4.49 in c:\\users\\arnav\\anaconda3\\lib\\site-packages (from llama-index-core<0.11.0,>=0.10.12->llama_index) (2.0.27)\n",
      "Requirement already satisfied: aiohttp<4.0.0,>=3.8.6 in c:\\users\\arnav\\anaconda3\\lib\\site-packages (from llama-index-core<0.11.0,>=0.10.12->llama_index) (3.9.3)\n",
      "Requirement already satisfied: dataclasses-json in c:\\users\\arnav\\anaconda3\\lib\\site-packages (from llama-index-core<0.11.0,>=0.10.12->llama_index) (0.6.4)\n",
      "Requirement already satisfied: deprecated>=1.2.9.3 in c:\\users\\arnav\\anaconda3\\lib\\site-packages (from llama-index-core<0.11.0,>=0.10.12->llama_index) (1.2.14)\n",
      "Requirement already satisfied: dirtyjson<2.0.0,>=1.0.8 in c:\\users\\arnav\\anaconda3\\lib\\site-packages (from llama-index-core<0.11.0,>=0.10.12->llama_index) (1.0.8)\n",
      "Requirement already satisfied: fsspec>=2023.5.0 in c:\\users\\arnav\\anaconda3\\lib\\site-packages (from llama-index-core<0.11.0,>=0.10.12->llama_index) (2024.2.0)\n",
      "Requirement already satisfied: httpx in c:\\users\\arnav\\anaconda3\\lib\\site-packages (from llama-index-core<0.11.0,>=0.10.12->llama_index) (0.27.0)\n",
      "Requirement already satisfied: llamaindex-py-client<0.2.0,>=0.1.13 in c:\\users\\arnav\\anaconda3\\lib\\site-packages (from llama-index-core<0.11.0,>=0.10.12->llama_index) (0.1.13)\n",
      "Requirement already satisfied: nest-asyncio<2.0.0,>=1.5.8 in c:\\users\\arnav\\anaconda3\\lib\\site-packages (from llama-index-core<0.11.0,>=0.10.12->llama_index) (1.6.0)\n",
      "Requirement already satisfied: networkx>=3.0 in c:\\users\\arnav\\anaconda3\\lib\\site-packages (from llama-index-core<0.11.0,>=0.10.12->llama_index) (3.1)\n",
      "Requirement already satisfied: nltk<4.0.0,>=3.8.1 in c:\\users\\arnav\\anaconda3\\lib\\site-packages (from llama-index-core<0.11.0,>=0.10.12->llama_index) (3.8.1)\n",
      "Requirement already satisfied: numpy in c:\\users\\arnav\\anaconda3\\lib\\site-packages (from llama-index-core<0.11.0,>=0.10.12->llama_index) (1.24.3)\n",
      "Requirement already satisfied: openai>=1.1.0 in c:\\users\\arnav\\anaconda3\\lib\\site-packages (from llama-index-core<0.11.0,>=0.10.12->llama_index) (1.12.0)\n",
      "Requirement already satisfied: pandas in c:\\users\\arnav\\anaconda3\\lib\\site-packages (from llama-index-core<0.11.0,>=0.10.12->llama_index) (2.0.3)\n",
      "Requirement already satisfied: pillow>=9.0.0 in c:\\users\\arnav\\anaconda3\\lib\\site-packages (from llama-index-core<0.11.0,>=0.10.12->llama_index) (10.0.1)\n",
      "Requirement already satisfied: requests>=2.31.0 in c:\\users\\arnav\\anaconda3\\lib\\site-packages (from llama-index-core<0.11.0,>=0.10.12->llama_index) (2.31.0)\n",
      "Requirement already satisfied: tenacity<9.0.0,>=8.2.0 in c:\\users\\arnav\\anaconda3\\lib\\site-packages (from llama-index-core<0.11.0,>=0.10.12->llama_index) (8.2.3)\n",
      "Requirement already satisfied: tiktoken>=0.3.3 in c:\\users\\arnav\\anaconda3\\lib\\site-packages (from llama-index-core<0.11.0,>=0.10.12->llama_index) (0.6.0)\n",
      "Requirement already satisfied: tqdm<5.0.0,>=4.66.1 in c:\\users\\arnav\\anaconda3\\lib\\site-packages (from llama-index-core<0.11.0,>=0.10.12->llama_index) (4.66.2)\n",
      "Requirement already satisfied: typing-extensions>=4.5.0 in c:\\users\\arnav\\anaconda3\\lib\\site-packages (from llama-index-core<0.11.0,>=0.10.12->llama_index) (4.9.0)\n",
      "Requirement already satisfied: typing-inspect>=0.8.0 in c:\\users\\arnav\\anaconda3\\lib\\site-packages (from llama-index-core<0.11.0,>=0.10.12->llama_index) (0.9.0)\n",
      "Requirement already satisfied: beautifulsoup4<5.0.0,>=4.12.3 in c:\\users\\arnav\\anaconda3\\lib\\site-packages (from llama-index-readers-file<0.2.0,>=0.1.4->llama_index) (4.12.3)\n",
      "Requirement already satisfied: bs4<0.0.3,>=0.0.2 in c:\\users\\arnav\\anaconda3\\lib\\site-packages (from llama-index-readers-file<0.2.0,>=0.1.4->llama_index) (0.0.2)\n",
      "Requirement already satisfied: pymupdf<2.0.0,>=1.23.21 in c:\\users\\arnav\\anaconda3\\lib\\site-packages (from llama-index-readers-file<0.2.0,>=0.1.4->llama_index) (1.23.25)\n",
      "Requirement already satisfied: pypdf<5.0.0,>=4.0.1 in c:\\users\\arnav\\anaconda3\\lib\\site-packages (from llama-index-readers-file<0.2.0,>=0.1.4->llama_index) (4.1.0)\n",
      "Requirement already satisfied: llama-parse<0.4.0,>=0.3.3 in c:\\users\\arnav\\anaconda3\\lib\\site-packages (from llama-index-readers-llama-parse<0.2.0,>=0.1.2->llama_index) (0.3.4)\n",
      "Requirement already satisfied: aiosignal>=1.1.2 in c:\\users\\arnav\\anaconda3\\lib\\site-packages (from aiohttp<4.0.0,>=3.8.6->llama-index-core<0.11.0,>=0.10.12->llama_index) (1.2.0)\n",
      "Requirement already satisfied: attrs>=17.3.0 in c:\\users\\arnav\\anaconda3\\lib\\site-packages (from aiohttp<4.0.0,>=3.8.6->llama-index-core<0.11.0,>=0.10.12->llama_index) (22.1.0)\n",
      "Requirement already satisfied: frozenlist>=1.1.1 in c:\\users\\arnav\\anaconda3\\lib\\site-packages (from aiohttp<4.0.0,>=3.8.6->llama-index-core<0.11.0,>=0.10.12->llama_index) (1.3.3)\n",
      "Requirement already satisfied: multidict<7.0,>=4.5 in c:\\users\\arnav\\anaconda3\\lib\\site-packages (from aiohttp<4.0.0,>=3.8.6->llama-index-core<0.11.0,>=0.10.12->llama_index) (6.0.2)\n",
      "Requirement already satisfied: yarl<2.0,>=1.0 in c:\\users\\arnav\\anaconda3\\lib\\site-packages (from aiohttp<4.0.0,>=3.8.6->llama-index-core<0.11.0,>=0.10.12->llama_index) (1.8.1)\n",
      "Requirement already satisfied: soupsieve>1.2 in c:\\users\\arnav\\anaconda3\\lib\\site-packages (from beautifulsoup4<5.0.0,>=4.12.3->llama-index-readers-file<0.2.0,>=0.1.4->llama_index) (2.4)\n",
      "Requirement already satisfied: wrapt<2,>=1.10 in c:\\users\\arnav\\anaconda3\\lib\\site-packages (from deprecated>=1.2.9.3->llama-index-core<0.11.0,>=0.10.12->llama_index) (1.14.1)\n",
      "Requirement already satisfied: chromadb<0.5.0,>=0.4.22 in c:\\users\\arnav\\anaconda3\\lib\\site-packages (from llama-index-vector-stores-chroma<0.2.0,>=0.1.1->llama-index-cli<0.2.0,>=0.1.2->llama_index) (0.4.24)\n",
      "Requirement already satisfied: onnxruntime<2.0.0,>=1.17.0 in c:\\users\\arnav\\anaconda3\\lib\\site-packages (from llama-index-vector-stores-chroma<0.2.0,>=0.1.1->llama-index-cli<0.2.0,>=0.1.2->llama_index) (1.17.1)\n",
      "Requirement already satisfied: tokenizers<0.16.0,>=0.15.1 in c:\\users\\arnav\\anaconda3\\lib\\site-packages (from llama-index-vector-stores-chroma<0.2.0,>=0.1.1->llama-index-cli<0.2.0,>=0.1.2->llama_index) (0.15.2)\n",
      "Requirement already satisfied: pydantic>=1.10 in c:\\users\\arnav\\anaconda3\\lib\\site-packages (from llamaindex-py-client<0.2.0,>=0.1.13->llama-index-core<0.11.0,>=0.10.12->llama_index) (1.10.8)\n",
      "Requirement already satisfied: anyio in c:\\users\\arnav\\anaconda3\\lib\\site-packages (from httpx->llama-index-core<0.11.0,>=0.10.12->llama_index) (3.5.0)\n",
      "Requirement already satisfied: certifi in c:\\users\\arnav\\anaconda3\\lib\\site-packages (from httpx->llama-index-core<0.11.0,>=0.10.12->llama_index) (2024.2.2)\n",
      "Requirement already satisfied: httpcore==1.* in c:\\users\\arnav\\anaconda3\\lib\\site-packages (from httpx->llama-index-core<0.11.0,>=0.10.12->llama_index) (1.0.4)\n",
      "Requirement already satisfied: idna in c:\\users\\arnav\\anaconda3\\lib\\site-packages (from httpx->llama-index-core<0.11.0,>=0.10.12->llama_index) (3.4)\n",
      "Requirement already satisfied: sniffio in c:\\users\\arnav\\anaconda3\\lib\\site-packages (from httpx->llama-index-core<0.11.0,>=0.10.12->llama_index) (1.2.0)\n",
      "Requirement already satisfied: h11<0.15,>=0.13 in c:\\users\\arnav\\anaconda3\\lib\\site-packages (from httpcore==1.*->httpx->llama-index-core<0.11.0,>=0.10.12->llama_index) (0.14.0)\n",
      "Requirement already satisfied: click in c:\\users\\arnav\\anaconda3\\lib\\site-packages (from nltk<4.0.0,>=3.8.1->llama-index-core<0.11.0,>=0.10.12->llama_index) (8.0.4)\n",
      "Requirement already satisfied: joblib in c:\\users\\arnav\\anaconda3\\lib\\site-packages (from nltk<4.0.0,>=3.8.1->llama-index-core<0.11.0,>=0.10.12->llama_index) (1.2.0)\n",
      "Requirement already satisfied: regex>=2021.8.3 in c:\\users\\arnav\\anaconda3\\lib\\site-packages (from nltk<4.0.0,>=3.8.1->llama-index-core<0.11.0,>=0.10.12->llama_index) (2022.7.9)\n",
      "Requirement already satisfied: distro<2,>=1.7.0 in c:\\users\\arnav\\anaconda3\\lib\\site-packages (from openai>=1.1.0->llama-index-core<0.11.0,>=0.10.12->llama_index) (1.9.0)\n",
      "Requirement already satisfied: PyMuPDFb==1.23.22 in c:\\users\\arnav\\anaconda3\\lib\\site-packages (from pymupdf<2.0.0,>=1.23.21->llama-index-readers-file<0.2.0,>=0.1.4->llama_index) (1.23.22)\n",
      "Requirement already satisfied: charset-normalizer<4,>=2 in c:\\users\\arnav\\anaconda3\\lib\\site-packages (from requests>=2.31.0->llama-index-core<0.11.0,>=0.10.12->llama_index) (2.0.4)\n",
      "Requirement already satisfied: urllib3<3,>=1.21.1 in c:\\users\\arnav\\anaconda3\\lib\\site-packages (from requests>=2.31.0->llama-index-core<0.11.0,>=0.10.12->llama_index) (2.2.1)\n",
      "Requirement already satisfied: greenlet!=0.4.17 in c:\\users\\arnav\\anaconda3\\lib\\site-packages (from SQLAlchemy[asyncio]>=1.4.49->llama-index-core<0.11.0,>=0.10.12->llama_index) (2.0.1)\n",
      "Requirement already satisfied: colorama in c:\\users\\arnav\\anaconda3\\lib\\site-packages (from tqdm<5.0.0,>=4.66.1->llama-index-core<0.11.0,>=0.10.12->llama_index) (0.4.6)\n",
      "Requirement already satisfied: mypy-extensions>=0.3.0 in c:\\users\\arnav\\anaconda3\\lib\\site-packages (from typing-inspect>=0.8.0->llama-index-core<0.11.0,>=0.10.12->llama_index) (1.0.0)\n",
      "Requirement already satisfied: marshmallow<4.0.0,>=3.18.0 in c:\\users\\arnav\\anaconda3\\lib\\site-packages (from dataclasses-json->llama-index-core<0.11.0,>=0.10.12->llama_index) (3.20.2)\n",
      "Requirement already satisfied: python-dateutil>=2.8.2 in c:\\users\\arnav\\anaconda3\\lib\\site-packages (from pandas->llama-index-core<0.11.0,>=0.10.12->llama_index) (2.8.2)\n",
      "Requirement already satisfied: pytz>=2020.1 in c:\\users\\arnav\\anaconda3\\lib\\site-packages (from pandas->llama-index-core<0.11.0,>=0.10.12->llama_index) (2023.3.post1)\n",
      "Requirement already satisfied: tzdata>=2022.1 in c:\\users\\arnav\\anaconda3\\lib\\site-packages (from pandas->llama-index-core<0.11.0,>=0.10.12->llama_index) (2023.3)\n",
      "Requirement already satisfied: build>=1.0.3 in c:\\users\\arnav\\anaconda3\\lib\\site-packages (from chromadb<0.5.0,>=0.4.22->llama-index-vector-stores-chroma<0.2.0,>=0.1.1->llama-index-cli<0.2.0,>=0.1.2->llama_index) (1.0.3)\n",
      "Requirement already satisfied: chroma-hnswlib==0.7.3 in c:\\users\\arnav\\anaconda3\\lib\\site-packages (from chromadb<0.5.0,>=0.4.22->llama-index-vector-stores-chroma<0.2.0,>=0.1.1->llama-index-cli<0.2.0,>=0.1.2->llama_index) (0.7.3)\n",
      "Requirement already satisfied: fastapi>=0.95.2 in c:\\users\\arnav\\anaconda3\\lib\\site-packages (from chromadb<0.5.0,>=0.4.22->llama-index-vector-stores-chroma<0.2.0,>=0.1.1->llama-index-cli<0.2.0,>=0.1.2->llama_index) (0.110.0)\n",
      "Requirement already satisfied: uvicorn[standard]>=0.18.3 in c:\\users\\arnav\\anaconda3\\lib\\site-packages (from chromadb<0.5.0,>=0.4.22->llama-index-vector-stores-chroma<0.2.0,>=0.1.1->llama-index-cli<0.2.0,>=0.1.2->llama_index) (0.27.1)\n",
      "Requirement already satisfied: posthog>=2.4.0 in c:\\users\\arnav\\anaconda3\\lib\\site-packages (from chromadb<0.5.0,>=0.4.22->llama-index-vector-stores-chroma<0.2.0,>=0.1.1->llama-index-cli<0.2.0,>=0.1.2->llama_index) (3.4.2)\n",
      "Requirement already satisfied: pulsar-client>=3.1.0 in c:\\users\\arnav\\anaconda3\\lib\\site-packages (from chromadb<0.5.0,>=0.4.22->llama-index-vector-stores-chroma<0.2.0,>=0.1.1->llama-index-cli<0.2.0,>=0.1.2->llama_index) (3.4.0)\n",
      "Requirement already satisfied: opentelemetry-api>=1.2.0 in c:\\users\\arnav\\anaconda3\\lib\\site-packages (from chromadb<0.5.0,>=0.4.22->llama-index-vector-stores-chroma<0.2.0,>=0.1.1->llama-index-cli<0.2.0,>=0.1.2->llama_index) (1.23.0)\n",
      "Requirement already satisfied: opentelemetry-exporter-otlp-proto-grpc>=1.2.0 in c:\\users\\arnav\\anaconda3\\lib\\site-packages (from chromadb<0.5.0,>=0.4.22->llama-index-vector-stores-chroma<0.2.0,>=0.1.1->llama-index-cli<0.2.0,>=0.1.2->llama_index) (1.23.0)\n",
      "Requirement already satisfied: opentelemetry-instrumentation-fastapi>=0.41b0 in c:\\users\\arnav\\anaconda3\\lib\\site-packages (from chromadb<0.5.0,>=0.4.22->llama-index-vector-stores-chroma<0.2.0,>=0.1.1->llama-index-cli<0.2.0,>=0.1.2->llama_index) (0.44b0)\n",
      "Requirement already satisfied: opentelemetry-sdk>=1.2.0 in c:\\users\\arnav\\anaconda3\\lib\\site-packages (from chromadb<0.5.0,>=0.4.22->llama-index-vector-stores-chroma<0.2.0,>=0.1.1->llama-index-cli<0.2.0,>=0.1.2->llama_index) (1.23.0)\n",
      "Requirement already satisfied: pypika>=0.48.9 in c:\\users\\arnav\\anaconda3\\lib\\site-packages (from chromadb<0.5.0,>=0.4.22->llama-index-vector-stores-chroma<0.2.0,>=0.1.1->llama-index-cli<0.2.0,>=0.1.2->llama_index) (0.48.9)\n",
      "Requirement already satisfied: overrides>=7.3.1 in c:\\users\\arnav\\anaconda3\\lib\\site-packages (from chromadb<0.5.0,>=0.4.22->llama-index-vector-stores-chroma<0.2.0,>=0.1.1->llama-index-cli<0.2.0,>=0.1.2->llama_index) (7.7.0)\n",
      "Requirement already satisfied: importlib-resources in c:\\users\\arnav\\anaconda3\\lib\\site-packages (from chromadb<0.5.0,>=0.4.22->llama-index-vector-stores-chroma<0.2.0,>=0.1.1->llama-index-cli<0.2.0,>=0.1.2->llama_index) (6.1.1)\n",
      "Requirement already satisfied: grpcio>=1.58.0 in c:\\users\\arnav\\anaconda3\\lib\\site-packages (from chromadb<0.5.0,>=0.4.22->llama-index-vector-stores-chroma<0.2.0,>=0.1.1->llama-index-cli<0.2.0,>=0.1.2->llama_index) (1.62.0)\n",
      "Requirement already satisfied: bcrypt>=4.0.1 in c:\\users\\arnav\\anaconda3\\lib\\site-packages (from chromadb<0.5.0,>=0.4.22->llama-index-vector-stores-chroma<0.2.0,>=0.1.1->llama-index-cli<0.2.0,>=0.1.2->llama_index) (4.1.2)\n",
      "Requirement already satisfied: typer>=0.9.0 in c:\\users\\arnav\\anaconda3\\lib\\site-packages (from chromadb<0.5.0,>=0.4.22->llama-index-vector-stores-chroma<0.2.0,>=0.1.1->llama-index-cli<0.2.0,>=0.1.2->llama_index) (0.9.0)\n",
      "Requirement already satisfied: kubernetes>=28.1.0 in c:\\users\\arnav\\anaconda3\\lib\\site-packages (from chromadb<0.5.0,>=0.4.22->llama-index-vector-stores-chroma<0.2.0,>=0.1.1->llama-index-cli<0.2.0,>=0.1.2->llama_index) (29.0.0)\n",
      "Requirement already satisfied: mmh3>=4.0.1 in c:\\users\\arnav\\anaconda3\\lib\\site-packages (from chromadb<0.5.0,>=0.4.22->llama-index-vector-stores-chroma<0.2.0,>=0.1.1->llama-index-cli<0.2.0,>=0.1.2->llama_index) (4.1.0)\n",
      "Requirement already satisfied: orjson>=3.9.12 in c:\\users\\arnav\\anaconda3\\lib\\site-packages (from chromadb<0.5.0,>=0.4.22->llama-index-vector-stores-chroma<0.2.0,>=0.1.1->llama-index-cli<0.2.0,>=0.1.2->llama_index) (3.9.15)\n",
      "Requirement already satisfied: packaging>=17.0 in c:\\users\\arnav\\anaconda3\\lib\\site-packages (from marshmallow<4.0.0,>=3.18.0->dataclasses-json->llama-index-core<0.11.0,>=0.10.12->llama_index) (23.2)\n",
      "Requirement already satisfied: coloredlogs in c:\\users\\arnav\\anaconda3\\lib\\site-packages (from onnxruntime<2.0.0,>=1.17.0->llama-index-vector-stores-chroma<0.2.0,>=0.1.1->llama-index-cli<0.2.0,>=0.1.2->llama_index) (15.0.1)\n",
      "Requirement already satisfied: flatbuffers in c:\\users\\arnav\\anaconda3\\lib\\site-packages (from onnxruntime<2.0.0,>=1.17.0->llama-index-vector-stores-chroma<0.2.0,>=0.1.1->llama-index-cli<0.2.0,>=0.1.2->llama_index) (23.5.26)\n",
      "Requirement already satisfied: protobuf in c:\\users\\arnav\\anaconda3\\lib\\site-packages (from onnxruntime<2.0.0,>=1.17.0->llama-index-vector-stores-chroma<0.2.0,>=0.1.1->llama-index-cli<0.2.0,>=0.1.2->llama_index) (4.25.3)\n",
      "Requirement already satisfied: sympy in c:\\users\\arnav\\anaconda3\\lib\\site-packages (from onnxruntime<2.0.0,>=1.17.0->llama-index-vector-stores-chroma<0.2.0,>=0.1.1->llama-index-cli<0.2.0,>=0.1.2->llama_index) (1.11.1)\n",
      "Requirement already satisfied: six>=1.5 in c:\\users\\arnav\\anaconda3\\lib\\site-packages (from python-dateutil>=2.8.2->pandas->llama-index-core<0.11.0,>=0.10.12->llama_index) (1.16.0)\n",
      "Requirement already satisfied: huggingface_hub<1.0,>=0.16.4 in c:\\users\\arnav\\anaconda3\\lib\\site-packages (from tokenizers<0.16.0,>=0.15.1->llama-index-vector-stores-chroma<0.2.0,>=0.1.1->llama-index-cli<0.2.0,>=0.1.2->llama_index) (0.20.3)\n",
      "Requirement already satisfied: pyproject_hooks in c:\\users\\arnav\\anaconda3\\lib\\site-packages (from build>=1.0.3->chromadb<0.5.0,>=0.4.22->llama-index-vector-stores-chroma<0.2.0,>=0.1.1->llama-index-cli<0.2.0,>=0.1.2->llama_index) (1.0.0)\n",
      "Requirement already satisfied: starlette<0.37.0,>=0.36.3 in c:\\users\\arnav\\anaconda3\\lib\\site-packages (from fastapi>=0.95.2->chromadb<0.5.0,>=0.4.22->llama-index-vector-stores-chroma<0.2.0,>=0.1.1->llama-index-cli<0.2.0,>=0.1.2->llama_index) (0.36.3)\n",
      "Requirement already satisfied: filelock in c:\\users\\arnav\\anaconda3\\lib\\site-packages (from huggingface_hub<1.0,>=0.16.4->tokenizers<0.16.0,>=0.15.1->llama-index-vector-stores-chroma<0.2.0,>=0.1.1->llama-index-cli<0.2.0,>=0.1.2->llama_index) (3.9.0)\n",
      "Requirement already satisfied: google-auth>=1.0.1 in c:\\users\\arnav\\anaconda3\\lib\\site-packages (from kubernetes>=28.1.0->chromadb<0.5.0,>=0.4.22->llama-index-vector-stores-chroma<0.2.0,>=0.1.1->llama-index-cli<0.2.0,>=0.1.2->llama_index) (2.28.1)\n",
      "Requirement already satisfied: websocket-client!=0.40.0,!=0.41.*,!=0.42.*,>=0.32.0 in c:\\users\\arnav\\anaconda3\\lib\\site-packages (from kubernetes>=28.1.0->chromadb<0.5.0,>=0.4.22->llama-index-vector-stores-chroma<0.2.0,>=0.1.1->llama-index-cli<0.2.0,>=0.1.2->llama_index) (0.58.0)\n",
      "Requirement already satisfied: requests-oauthlib in c:\\users\\arnav\\anaconda3\\lib\\site-packages (from kubernetes>=28.1.0->chromadb<0.5.0,>=0.4.22->llama-index-vector-stores-chroma<0.2.0,>=0.1.1->llama-index-cli<0.2.0,>=0.1.2->llama_index) (1.3.1)\n",
      "Requirement already satisfied: oauthlib>=3.2.2 in c:\\users\\arnav\\anaconda3\\lib\\site-packages (from kubernetes>=28.1.0->chromadb<0.5.0,>=0.4.22->llama-index-vector-stores-chroma<0.2.0,>=0.1.1->llama-index-cli<0.2.0,>=0.1.2->llama_index) (3.2.2)\n",
      "Requirement already satisfied: importlib-metadata<7.0,>=6.0 in c:\\users\\arnav\\anaconda3\\lib\\site-packages (from opentelemetry-api>=1.2.0->chromadb<0.5.0,>=0.4.22->llama-index-vector-stores-chroma<0.2.0,>=0.1.1->llama-index-cli<0.2.0,>=0.1.2->llama_index) (6.0.0)\n",
      "Requirement already satisfied: googleapis-common-protos~=1.52 in c:\\users\\arnav\\anaconda3\\lib\\site-packages (from opentelemetry-exporter-otlp-proto-grpc>=1.2.0->chromadb<0.5.0,>=0.4.22->llama-index-vector-stores-chroma<0.2.0,>=0.1.1->llama-index-cli<0.2.0,>=0.1.2->llama_index) (1.62.0)\n",
      "Requirement already satisfied: opentelemetry-exporter-otlp-proto-common==1.23.0 in c:\\users\\arnav\\anaconda3\\lib\\site-packages (from opentelemetry-exporter-otlp-proto-grpc>=1.2.0->chromadb<0.5.0,>=0.4.22->llama-index-vector-stores-chroma<0.2.0,>=0.1.1->llama-index-cli<0.2.0,>=0.1.2->llama_index) (1.23.0)\n",
      "Requirement already satisfied: opentelemetry-proto==1.23.0 in c:\\users\\arnav\\anaconda3\\lib\\site-packages (from opentelemetry-exporter-otlp-proto-grpc>=1.2.0->chromadb<0.5.0,>=0.4.22->llama-index-vector-stores-chroma<0.2.0,>=0.1.1->llama-index-cli<0.2.0,>=0.1.2->llama_index) (1.23.0)\n",
      "Requirement already satisfied: opentelemetry-instrumentation-asgi==0.44b0 in c:\\users\\arnav\\anaconda3\\lib\\site-packages (from opentelemetry-instrumentation-fastapi>=0.41b0->chromadb<0.5.0,>=0.4.22->llama-index-vector-stores-chroma<0.2.0,>=0.1.1->llama-index-cli<0.2.0,>=0.1.2->llama_index) (0.44b0)\n",
      "Requirement already satisfied: opentelemetry-instrumentation==0.44b0 in c:\\users\\arnav\\anaconda3\\lib\\site-packages (from opentelemetry-instrumentation-fastapi>=0.41b0->chromadb<0.5.0,>=0.4.22->llama-index-vector-stores-chroma<0.2.0,>=0.1.1->llama-index-cli<0.2.0,>=0.1.2->llama_index) (0.44b0)\n",
      "Requirement already satisfied: opentelemetry-semantic-conventions==0.44b0 in c:\\users\\arnav\\anaconda3\\lib\\site-packages (from opentelemetry-instrumentation-fastapi>=0.41b0->chromadb<0.5.0,>=0.4.22->llama-index-vector-stores-chroma<0.2.0,>=0.1.1->llama-index-cli<0.2.0,>=0.1.2->llama_index) (0.44b0)\n",
      "Requirement already satisfied: opentelemetry-util-http==0.44b0 in c:\\users\\arnav\\anaconda3\\lib\\site-packages (from opentelemetry-instrumentation-fastapi>=0.41b0->chromadb<0.5.0,>=0.4.22->llama-index-vector-stores-chroma<0.2.0,>=0.1.1->llama-index-cli<0.2.0,>=0.1.2->llama_index) (0.44b0)\n",
      "Requirement already satisfied: setuptools>=16.0 in c:\\users\\arnav\\anaconda3\\lib\\site-packages (from opentelemetry-instrumentation==0.44b0->opentelemetry-instrumentation-fastapi>=0.41b0->chromadb<0.5.0,>=0.4.22->llama-index-vector-stores-chroma<0.2.0,>=0.1.1->llama-index-cli<0.2.0,>=0.1.2->llama_index) (68.0.0)\n",
      "Requirement already satisfied: asgiref~=3.0 in c:\\users\\arnav\\anaconda3\\lib\\site-packages (from opentelemetry-instrumentation-asgi==0.44b0->opentelemetry-instrumentation-fastapi>=0.41b0->chromadb<0.5.0,>=0.4.22->llama-index-vector-stores-chroma<0.2.0,>=0.1.1->llama-index-cli<0.2.0,>=0.1.2->llama_index) (3.7.2)\n",
      "Requirement already satisfied: monotonic>=1.5 in c:\\users\\arnav\\anaconda3\\lib\\site-packages (from posthog>=2.4.0->chromadb<0.5.0,>=0.4.22->llama-index-vector-stores-chroma<0.2.0,>=0.1.1->llama-index-cli<0.2.0,>=0.1.2->llama_index) (1.6)\n",
      "Requirement already satisfied: backoff>=1.10.0 in c:\\users\\arnav\\anaconda3\\lib\\site-packages (from posthog>=2.4.0->chromadb<0.5.0,>=0.4.22->llama-index-vector-stores-chroma<0.2.0,>=0.1.1->llama-index-cli<0.2.0,>=0.1.2->llama_index) (2.2.1)\n",
      "Requirement already satisfied: httptools>=0.5.0 in c:\\users\\arnav\\anaconda3\\lib\\site-packages (from uvicorn[standard]>=0.18.3->chromadb<0.5.0,>=0.4.22->llama-index-vector-stores-chroma<0.2.0,>=0.1.1->llama-index-cli<0.2.0,>=0.1.2->llama_index) (0.6.1)\n",
      "Requirement already satisfied: python-dotenv>=0.13 in c:\\users\\arnav\\anaconda3\\lib\\site-packages (from uvicorn[standard]>=0.18.3->chromadb<0.5.0,>=0.4.22->llama-index-vector-stores-chroma<0.2.0,>=0.1.1->llama-index-cli<0.2.0,>=0.1.2->llama_index) (0.21.0)\n",
      "Requirement already satisfied: watchfiles>=0.13 in c:\\users\\arnav\\anaconda3\\lib\\site-packages (from uvicorn[standard]>=0.18.3->chromadb<0.5.0,>=0.4.22->llama-index-vector-stores-chroma<0.2.0,>=0.1.1->llama-index-cli<0.2.0,>=0.1.2->llama_index) (0.21.0)\n",
      "Requirement already satisfied: websockets>=10.4 in c:\\users\\arnav\\anaconda3\\lib\\site-packages (from uvicorn[standard]>=0.18.3->chromadb<0.5.0,>=0.4.22->llama-index-vector-stores-chroma<0.2.0,>=0.1.1->llama-index-cli<0.2.0,>=0.1.2->llama_index) (12.0)\n",
      "Requirement already satisfied: humanfriendly>=9.1 in c:\\users\\arnav\\anaconda3\\lib\\site-packages (from coloredlogs->onnxruntime<2.0.0,>=1.17.0->llama-index-vector-stores-chroma<0.2.0,>=0.1.1->llama-index-cli<0.2.0,>=0.1.2->llama_index) (10.0)\n",
      "Requirement already satisfied: mpmath>=0.19 in c:\\users\\arnav\\anaconda3\\lib\\site-packages (from sympy->onnxruntime<2.0.0,>=1.17.0->llama-index-vector-stores-chroma<0.2.0,>=0.1.1->llama-index-cli<0.2.0,>=0.1.2->llama_index) (1.3.0)\n",
      "Requirement already satisfied: cachetools<6.0,>=2.0.0 in c:\\users\\arnav\\anaconda3\\lib\\site-packages (from google-auth>=1.0.1->kubernetes>=28.1.0->chromadb<0.5.0,>=0.4.22->llama-index-vector-stores-chroma<0.2.0,>=0.1.1->llama-index-cli<0.2.0,>=0.1.2->llama_index) (5.3.2)\n",
      "Requirement already satisfied: pyasn1-modules>=0.2.1 in c:\\users\\arnav\\anaconda3\\lib\\site-packages (from google-auth>=1.0.1->kubernetes>=28.1.0->chromadb<0.5.0,>=0.4.22->llama-index-vector-stores-chroma<0.2.0,>=0.1.1->llama-index-cli<0.2.0,>=0.1.2->llama_index) (0.2.8)\n",
      "Requirement already satisfied: rsa<5,>=3.1.4 in c:\\users\\arnav\\anaconda3\\lib\\site-packages (from google-auth>=1.0.1->kubernetes>=28.1.0->chromadb<0.5.0,>=0.4.22->llama-index-vector-stores-chroma<0.2.0,>=0.1.1->llama-index-cli<0.2.0,>=0.1.2->llama_index) (4.9)\n",
      "Requirement already satisfied: pyreadline3 in c:\\users\\arnav\\anaconda3\\lib\\site-packages (from humanfriendly>=9.1->coloredlogs->onnxruntime<2.0.0,>=1.17.0->llama-index-vector-stores-chroma<0.2.0,>=0.1.1->llama-index-cli<0.2.0,>=0.1.2->llama_index) (3.4.1)\n",
      "Requirement already satisfied: zipp>=0.5 in c:\\users\\arnav\\anaconda3\\lib\\site-packages (from importlib-metadata<7.0,>=6.0->opentelemetry-api>=1.2.0->chromadb<0.5.0,>=0.4.22->llama-index-vector-stores-chroma<0.2.0,>=0.1.1->llama-index-cli<0.2.0,>=0.1.2->llama_index) (3.11.0)\n",
      "Requirement already satisfied: pyasn1<0.5.0,>=0.4.6 in c:\\users\\arnav\\anaconda3\\lib\\site-packages (from pyasn1-modules>=0.2.1->google-auth>=1.0.1->kubernetes>=28.1.0->chromadb<0.5.0,>=0.4.22->llama-index-vector-stores-chroma<0.2.0,>=0.1.1->llama-index-cli<0.2.0,>=0.1.2->llama_index) (0.4.8)\n",
      "Note: you may need to restart the kernel to use updated packages.\n"
     ]
    }
   ],
   "source": [
    "%pip install llama_index"
   ]
  },
  {
   "cell_type": "code",
   "execution_count": 3,
   "metadata": {},
   "outputs": [
    {
     "ename": "ImportError",
     "evalue": "cannot import name 'BaseToolSpec' from 'llama_index.core.tools' (c:\\Users\\arnav\\anaconda3\\Lib\\site-packages\\llama_index\\core\\tools\\__init__.py)",
     "output_type": "error",
     "traceback": [
      "\u001b[1;31m---------------------------------------------------------------------------\u001b[0m",
      "\u001b[1;31mImportError\u001b[0m                               Traceback (most recent call last)",
      "Cell \u001b[1;32mIn[3], line 2\u001b[0m\n\u001b[0;32m      1\u001b[0m \u001b[38;5;28;01mfrom\u001b[39;00m \u001b[38;5;21;01mllama_index\u001b[39;00m\u001b[38;5;21;01m.\u001b[39;00m\u001b[38;5;21;01magent\u001b[39;00m\u001b[38;5;21;01m.\u001b[39;00m\u001b[38;5;21;01mopenai\u001b[39;00m \u001b[38;5;28;01mimport\u001b[39;00m OpenAIAgent\n\u001b[1;32m----> 2\u001b[0m \u001b[38;5;28;01mfrom\u001b[39;00m \u001b[38;5;21;01mllama_index\u001b[39;00m\u001b[38;5;21;01m.\u001b[39;00m\u001b[38;5;21;01mcore\u001b[39;00m\u001b[38;5;21;01m.\u001b[39;00m\u001b[38;5;21;01mtools\u001b[39;00m \u001b[38;5;28;01mimport\u001b[39;00m BaseToolSpec\n",
      "\u001b[1;31mImportError\u001b[0m: cannot import name 'BaseToolSpec' from 'llama_index.core.tools' (c:\\Users\\arnav\\anaconda3\\Lib\\site-packages\\llama_index\\core\\tools\\__init__.py)"
     ]
    }
   ],
   "source": [
    "from llama_index.agent.openai import OpenAIAgent\n",
    "from llama_index.core.tools import BaseToolSpec"
   ]
  },
  {
   "cell_type": "code",
   "execution_count": 6,
   "metadata": {},
   "outputs": [],
   "source": [
    "class CVToolSpec():\n",
    "    spec_functions = ['handle_vision_request']\n",
    "\n",
    "    def __init__(self):\n",
    "        # figure out how to init\n",
    "        ''''''\n",
    "\n",
    "    def cv_query(self, query):\n",
    "        # figure out how to query\n",
    "        ''''''"
   ]
  },
  {
   "cell_type": "code",
   "execution_count": 7,
   "metadata": {},
   "outputs": [],
   "source": [
    "cvtool = CVToolSpec()\n",
    "# cvtool.to_tool_spec()"
   ]
  },
  {
   "cell_type": "code",
   "execution_count": 8,
   "metadata": {},
   "outputs": [
    {
     "data": {
      "text/plain": [
       "'# Inherit from the LlamaIndex BaseToolSpec abstraction\\nclass WolframAlphaToolSpec(BaseToolSpec):\\n\\n  # Define the functions that we export to the LLM\\n  spec_functions = [\"wolfram_alpha_query\"]\\n\\n  # Initialize with our wolfram alpha API key\\n  def __init__(self, app_id: Optional[str] = None):\\n      \"\"\"Initialize with parameters.\"\"\"\\n      self.token = app_id\\n  \\n  # Our function to be called by the Agent\\n  def wolfram_alpha_query(self, query: str):\\n          \"\"\"\\n          Make a query to wolfram alpha about a mathematical or scientific problem.\\n  \\n          Example inputs:\\n              \"(7 * 12 ^ 10) / 321\"\\n              \"How many calories are there in a pound of strawberries\"\\n  \\n          Args:\\n              query (str): The query to be passed to wolfram alpha.\\n  \\n          \"\"\"\\n          response = requests.get(QUERY_URL_TMPL.format(app_id=self.token, query=urllib.parse.quote_plus(query)))\\n          return response.text'"
      ]
     },
     "execution_count": 8,
     "metadata": {},
     "output_type": "execute_result"
    }
   ],
   "source": [
    "'''# Inherit from the LlamaIndex BaseToolSpec abstraction\n",
    "class WolframAlphaToolSpec(BaseToolSpec):\n",
    "\n",
    "  # Define the functions that we export to the LLM\n",
    "  spec_functions = [\"wolfram_alpha_query\"]\n",
    "\n",
    "  # Initialize with our wolfram alpha API key\n",
    "  def __init__(self, app_id: Optional[str] = None):\n",
    "      \"\"\"Initialize with parameters.\"\"\"\n",
    "      self.token = app_id\n",
    "  \n",
    "  # Our function to be called by the Agent\n",
    "  def wolfram_alpha_query(self, query: str):\n",
    "          \"\"\"\n",
    "          Make a query to wolfram alpha about a mathematical or scientific problem.\n",
    "  \n",
    "          Example inputs:\n",
    "              \"(7 * 12 ^ 10) / 321\"\n",
    "              \"How many calories are there in a pound of strawberries\"\n",
    "  \n",
    "          Args:\n",
    "              query (str): The query to be passed to wolfram alpha.\n",
    "  \n",
    "          \"\"\"\n",
    "          response = requests.get(QUERY_URL_TMPL.format(app_id=self.token, query=urllib.parse.quote_plus(query)))\n",
    "          return response.text'''"
   ]
  },
  {
   "cell_type": "code",
   "execution_count": 8,
   "metadata": {},
   "outputs": [],
   "source": [
    "class LocationToolSpec():\n",
    "    spec_functions = ['handle_location_request']\n",
    "\n",
    "    def __init__(self):\n",
    "        self.location = None\n",
    "\n",
    "    def get_location(self, request):\n",
    "        return "
   ]
  },
  {
   "cell_type": "code",
   "execution_count": null,
   "metadata": {},
   "outputs": [],
   "source": []
  }
 ],
 "metadata": {
  "kernelspec": {
   "display_name": "base",
   "language": "python",
   "name": "python3"
  },
  "language_info": {
   "codemirror_mode": {
    "name": "ipython",
    "version": 3
   },
   "file_extension": ".py",
   "mimetype": "text/x-python",
   "name": "python",
   "nbconvert_exporter": "python",
   "pygments_lexer": "ipython3",
   "version": "3.11.5"
  }
 },
 "nbformat": 4,
 "nbformat_minor": 2
}
